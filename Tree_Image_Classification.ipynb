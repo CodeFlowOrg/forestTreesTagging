{
  "nbformat": 4,
  "nbformat_minor": 0,
  "metadata": {
    "colab": {
      "name": "Tree Image Classification",
      "provenance": [],
      "collapsed_sections": []
    },
    "kernelspec": {
      "name": "python3",
      "display_name": "Python 3"
    },
    "accelerator": "GPU"
  },
  "cells": [
    {
      "cell_type": "code",
      "metadata": {
        "colab": {
          "base_uri": "https://localhost:8080/"
        },
        "id": "eHu-Szr15RoN",
        "outputId": "7e4163ff-29db-4e51-8458-ce10cc021756"
      },
      "source": [
        "import os \n",
        "from tensorflow.keras import layers\n",
        "from tensorflow.keras import Model\n",
        "\n",
        "!wget --no-check-certificate \\\n",
        " https://storage.googleapis.com/mledu-datasets/inception_v3_weights_tf_dim_ordering_tf_kernels_notop.h5 \\\n",
        "    -O /tmp/inception_v3_weights_tf_dim_ordering_tf_kernels_notop.h5"
      ],
      "execution_count": null,
      "outputs": [
        {
          "output_type": "stream",
          "text": [
            "--2021-03-18 03:20:28--  https://storage.googleapis.com/mledu-datasets/inception_v3_weights_tf_dim_ordering_tf_kernels_notop.h5\n",
            "Resolving storage.googleapis.com (storage.googleapis.com)... 74.125.20.128, 74.125.197.128, 74.125.142.128, ...\n",
            "Connecting to storage.googleapis.com (storage.googleapis.com)|74.125.20.128|:443... connected.\n",
            "HTTP request sent, awaiting response... 200 OK\n",
            "Length: 87910968 (84M) [application/x-hdf]\n",
            "Saving to: ‘/tmp/inception_v3_weights_tf_dim_ordering_tf_kernels_notop.h5’\n",
            "\n",
            "/tmp/inception_v3_w 100%[===================>]  83.84M   157MB/s    in 0.5s    \n",
            "\n",
            "2021-03-18 03:20:29 (157 MB/s) - ‘/tmp/inception_v3_weights_tf_dim_ordering_tf_kernels_notop.h5’ saved [87910968/87910968]\n",
            "\n"
          ],
          "name": "stdout"
        }
      ]
    },
    {
      "cell_type": "code",
      "metadata": {
        "colab": {
          "base_uri": "https://localhost:8080/"
        },
        "id": "yIv6Wf6s5xVx",
        "outputId": "8e43985d-aa6b-465f-871d-f5269e8a8836"
      },
      "source": [
        "from tensorflow.keras.applications.inception_v3 import InceptionV3\n",
        "local_weights_file = '/tmp/inception_v3_weights_tf_dim_ordering_tf_kernels_notop.h5'\n",
        "pre_trained_model = InceptionV3(input_shape=(150,150,3),\n",
        "                                include_top = False,\n",
        "                                weights = None)\n",
        "pre_trained_model.load_weights(local_weights_file)\n",
        "\n",
        "for layer in pre_trained_model.layers:\n",
        "  layer.trainable = False\n",
        "\n",
        "#pre_trained_model.summary()\n",
        "\n",
        "last_layer = pre_trained_model.get_layer('mixed7')\n",
        "print('last layer output shape: ', last_layer.output_shape)\n",
        "last_output = last_layer.output"
      ],
      "execution_count": null,
      "outputs": [
        {
          "output_type": "stream",
          "text": [
            "last layer output shape:  (None, 7, 7, 768)\n"
          ],
          "name": "stdout"
        }
      ]
    },
    {
      "cell_type": "code",
      "metadata": {
        "id": "vt0TxrBWBrKZ"
      },
      "source": [
        "from tensorflow.keras.optimizers import RMSprop\n",
        "x = layers.Flatten()(last_output)\n",
        "x = layers.Dense(1024, activation='relu')(x)\n",
        "x = layers.Dropout(0.2)(x)\n",
        "x = layers.Dense(4, activation='softmax')(x)\n",
        "model = Model(pre_trained_model.input, x)\n",
        "model.compile(loss='categorical_crossentropy',\n",
        "              optimizer = RMSprop(lr=0.0001),\n",
        "              metrics=['accuracy'])"
      ],
      "execution_count": null,
      "outputs": []
    },
    {
      "cell_type": "code",
      "metadata": {
        "id": "bVwcSW-BQXFn",
        "colab": {
          "base_uri": "https://localhost:8080/"
        },
        "outputId": "6d8c6bcd-cd55-4203-b39c-88fdf60f120a"
      },
      "source": [
        "!git clone https://github.com/Aditi0102/tree-image-dataset.git"
      ],
      "execution_count": null,
      "outputs": [
        {
          "output_type": "stream",
          "text": [
            "Cloning into 'tree-image-dataset'...\n",
            "remote: Enumerating objects: 360, done.\u001b[K\n",
            "remote: Counting objects: 100% (360/360), done.\u001b[K\n",
            "remote: Compressing objects: 100% (358/358), done.\u001b[K\n",
            "remote: Total 360 (delta 0), reused 357 (delta 0), pack-reused 0\u001b[K\n",
            "Receiving objects: 100% (360/360), 4.36 MiB | 3.68 MiB/s, done.\n"
          ],
          "name": "stdout"
        }
      ]
    },
    {
      "cell_type": "code",
      "metadata": {
        "colab": {
          "base_uri": "https://localhost:8080/"
        },
        "id": "SyIPsBm4R--G",
        "outputId": "730c7aed-a121-4782-e867-8fb193dd10a8"
      },
      "source": [
        "!ls\n"
      ],
      "execution_count": null,
      "outputs": [
        {
          "output_type": "stream",
          "text": [
            "sample_data  tree-image-dataset\n"
          ],
          "name": "stdout"
        }
      ]
    },
    {
      "cell_type": "code",
      "metadata": {
        "id": "cREyK1FWR_4v"
      },
      "source": [
        "base_dir = '/content/tree-image-dataset'\n",
        "train_dir = os.path.join(base_dir, 'training')\n",
        "validation_dir = os.path.join(base_dir, 'validation')\n",
        "\n",
        "train_apples_dir = os.path.join(train_dir, 'apples')\n",
        "train_bananas_dir = os.path.join(train_dir, 'bananas')\n",
        "train_banyan_dir = os.path.join(train_dir, 'banyan')\n",
        "train_pine_dir = os.path.join(train_dir, 'pine')\n",
        "\n",
        "validation_apples_dir = os.path.join(validation_dir, 'apples')\n",
        "validation_bananas_dir = os.path.join(validation_dir, 'bananas')\n",
        "validation_banyan_dir = os.path.join(validation_dir, 'banyan')\n",
        "validation_pine_dir = os.path.join(validation_dir, 'pine')"
      ],
      "execution_count": null,
      "outputs": []
    },
    {
      "cell_type": "code",
      "metadata": {
        "id": "2JIf3oymTCT5",
        "colab": {
          "base_uri": "https://localhost:8080/"
        },
        "outputId": "96ef2678-aa3d-44f3-f03e-2a9ca43c7481"
      },
      "source": [
        "train_apples_fnames = os.listdir(train_apples_dir)\n",
        "train_bananas_fnames = os.listdir(train_bananas_dir)\n",
        "train_banyan_fnames = os.listdir(train_banyan_dir)\n",
        "train_pine_fnames = os.listdir(train_pine_dir)\n",
        "\n",
        "print(train_apples_fnames[:10])\n",
        "print(train_bananas_fnames[:10])\n",
        "print(train_banyan_fnames[:10])\n",
        "print(train_pine_fnames[:10])"
      ],
      "execution_count": null,
      "outputs": [
        {
          "output_type": "stream",
          "text": [
            "['apple57.jpg', 'apple37.jpg', 'apple23.jpg', 'apple10.jpg', 'apple18.jpg', 'apple2.jpg', 'apple17.jpg', 'apple59.jpg', 'apple34.jpg', 'apple22.jpg']\n",
            "['banana5.jpg', 'banana62.jpg', 'banana31.jpg', 'banana69.jpg', 'banana56.jpg', 'banana53.jpg', 'banana25.jpg', 'banana57.jpg', 'banana4.jpg', 'banana44.jpg']\n",
            "['banyan60.jpg', 'banyan38.jpg', 'banyan61.jpg', 'banyan34.jpg', 'banyan59.jpg', 'banyan58.jpg', 'banyan10.jpg', 'banyan31.jpg', 'banyan45.jpg', 'banyan62.jpg']\n",
            "['pine16.jpg', 'pine7.jpg', 'pine46.jpg', 'pine8.jpg', 'pine22.jpg', 'pine40.jpg', 'pine24.jpg', 'pine5.jpg', 'pine49.jpg', 'pine32.jpg']\n"
          ],
          "name": "stdout"
        }
      ]
    },
    {
      "cell_type": "code",
      "metadata": {
        "colab": {
          "base_uri": "https://localhost:8080/"
        },
        "id": "jndKxTqLgBmq",
        "outputId": "1916aa31-5eaa-44e4-efeb-da56ee3c5f0e"
      },
      "source": [
        "print('total training apple images: ', len(os.listdir(train_apples_dir)))\n",
        "print('total training banana images: ', len(os.listdir(train_bananas_dir)))\n",
        "print('total training banyan images: ', len(os.listdir(train_banyan_dir)))\n",
        "print('total training pine images: ', len(os.listdir(train_pine_dir)))\n",
        "\n",
        "print('total validation apple images :', len(os.listdir(validation_apples_dir)))\n",
        "print('total validation banana images :', len(os.listdir(validation_bananas_dir)))\n",
        "print('total validation banyan images :', len(os.listdir(validation_banyan_dir)))\n",
        "print('total validation pine images :', len(os.listdir(validation_pine_dir)))"
      ],
      "execution_count": null,
      "outputs": [
        {
          "output_type": "stream",
          "text": [
            "total training apple images:  58\n",
            "total training banana images:  96\n",
            "total training banyan images:  66\n",
            "total training pine images:  75\n",
            "total validation apple images : 14\n",
            "total validation banana images : 24\n",
            "total validation banyan images : 16\n",
            "total validation pine images : 19\n"
          ],
          "name": "stdout"
        }
      ]
    },
    {
      "cell_type": "code",
      "metadata": {
        "colab": {
          "base_uri": "https://localhost:8080/"
        },
        "id": "fmbsNyMmzErj",
        "outputId": "7343ef80-5720-44df-ee5f-f5b3fd718d8c"
      },
      "source": [
        "from tensorflow.keras.preprocessing.image import ImageDataGenerator\n",
        "train_datagen = ImageDataGenerator(\n",
        "    rescale = 1./255.,\n",
        "    rotation_range = 40,\n",
        "    width_shift_range = 0.2,\n",
        "    height_shift_range = 0.2,\n",
        "    shear_range = 0.2,\n",
        "    zoom_range = 0.2,\n",
        "    horizontal_flip = True\n",
        "   )\n",
        "\n",
        "validation_datagen = ImageDataGenerator(rescale=1/255)\n",
        "\n",
        "train_generator = train_datagen.flow_from_directory(\n",
        "    train_dir,\n",
        "    target_size=(150,150),\n",
        "    batch_size= 5,\n",
        "    class_mode = 'categorical'\n",
        ")\n",
        "validation_generator = validation_datagen.flow_from_directory(\n",
        "    validation_dir,\n",
        "    target_size=(150,150),\n",
        "    batch_size=5,\n",
        "    class_mode='categorical'\n",
        ")"
      ],
      "execution_count": null,
      "outputs": [
        {
          "output_type": "stream",
          "text": [
            "Found 295 images belonging to 4 classes.\n",
            "Found 73 images belonging to 4 classes.\n"
          ],
          "name": "stdout"
        }
      ]
    },
    {
      "cell_type": "code",
      "metadata": {
        "colab": {
          "base_uri": "https://localhost:8080/"
        },
        "id": "DtukZv3V1Lq8",
        "outputId": "68b77cc3-ef91-42eb-eb69-92ed9b821a25"
      },
      "source": [
        "history = model.fit(\n",
        "    train_generator,\n",
        "    steps_per_epoch=59,\n",
        "    epochs=20,\n",
        "    validation_data = validation_generator,\n",
        "    validation_steps = 14,\n",
        "    verbose = 1\n",
        ")"
      ],
      "execution_count": null,
      "outputs": [
        {
          "output_type": "stream",
          "text": [
            "Epoch 1/20\n",
            "59/59 [==============================] - 36s 58ms/step - loss: 1.3112 - accuracy: 0.5459 - val_loss: 0.3153 - val_accuracy: 0.8857\n",
            "Epoch 2/20\n",
            "59/59 [==============================] - 2s 41ms/step - loss: 0.5177 - accuracy: 0.8042 - val_loss: 0.1308 - val_accuracy: 0.9429\n",
            "Epoch 3/20\n",
            "59/59 [==============================] - 2s 41ms/step - loss: 0.3201 - accuracy: 0.9040 - val_loss: 0.2125 - val_accuracy: 0.9143\n",
            "Epoch 4/20\n",
            "59/59 [==============================] - 2s 41ms/step - loss: 0.4484 - accuracy: 0.8808 - val_loss: 0.1839 - val_accuracy: 0.9286\n",
            "Epoch 5/20\n",
            "59/59 [==============================] - 2s 41ms/step - loss: 0.2398 - accuracy: 0.8962 - val_loss: 0.5529 - val_accuracy: 0.8714\n",
            "Epoch 6/20\n",
            "59/59 [==============================] - 2s 40ms/step - loss: 0.3018 - accuracy: 0.9151 - val_loss: 0.1495 - val_accuracy: 0.9571\n",
            "Epoch 7/20\n",
            "59/59 [==============================] - 2s 41ms/step - loss: 0.1824 - accuracy: 0.9340 - val_loss: 0.0785 - val_accuracy: 0.9714\n",
            "Epoch 8/20\n",
            "59/59 [==============================] - 2s 41ms/step - loss: 0.1922 - accuracy: 0.9410 - val_loss: 0.1675 - val_accuracy: 0.9286\n",
            "Epoch 9/20\n",
            "59/59 [==============================] - 2s 41ms/step - loss: 0.1726 - accuracy: 0.9191 - val_loss: 0.1328 - val_accuracy: 0.9429\n",
            "Epoch 10/20\n",
            "59/59 [==============================] - 2s 41ms/step - loss: 0.1775 - accuracy: 0.9285 - val_loss: 0.0345 - val_accuracy: 0.9857\n",
            "Epoch 11/20\n",
            "59/59 [==============================] - 2s 41ms/step - loss: 0.2827 - accuracy: 0.8994 - val_loss: 0.0765 - val_accuracy: 0.9714\n",
            "Epoch 12/20\n",
            "59/59 [==============================] - 2s 41ms/step - loss: 0.2754 - accuracy: 0.9287 - val_loss: 0.0500 - val_accuracy: 0.9714\n",
            "Epoch 13/20\n",
            "59/59 [==============================] - 3s 45ms/step - loss: 0.1227 - accuracy: 0.9497 - val_loss: 0.1306 - val_accuracy: 0.9714\n",
            "Epoch 14/20\n",
            "59/59 [==============================] - 3s 42ms/step - loss: 0.1515 - accuracy: 0.9606 - val_loss: 0.0876 - val_accuracy: 0.9857\n",
            "Epoch 15/20\n",
            "59/59 [==============================] - 2s 41ms/step - loss: 0.2003 - accuracy: 0.9501 - val_loss: 0.1882 - val_accuracy: 0.9286\n",
            "Epoch 16/20\n",
            "59/59 [==============================] - 2s 40ms/step - loss: 0.1174 - accuracy: 0.9523 - val_loss: 0.2706 - val_accuracy: 0.9714\n",
            "Epoch 17/20\n",
            "59/59 [==============================] - 2s 41ms/step - loss: 0.1194 - accuracy: 0.9561 - val_loss: 0.4416 - val_accuracy: 0.8857\n",
            "Epoch 18/20\n",
            "59/59 [==============================] - 2s 41ms/step - loss: 0.1180 - accuracy: 0.9451 - val_loss: 0.3658 - val_accuracy: 0.9000\n",
            "Epoch 19/20\n",
            "59/59 [==============================] - 3s 44ms/step - loss: 0.3187 - accuracy: 0.9295 - val_loss: 0.1666 - val_accuracy: 0.9571\n",
            "Epoch 20/20\n",
            "59/59 [==============================] - 2s 41ms/step - loss: 0.1876 - accuracy: 0.9525 - val_loss: 0.3592 - val_accuracy: 0.8857\n"
          ],
          "name": "stdout"
        }
      ]
    },
    {
      "cell_type": "code",
      "metadata": {
        "colab": {
          "base_uri": "https://localhost:8080/",
          "height": 545
        },
        "id": "qfq_7uh42pfz",
        "outputId": "7dc1f10f-9003-4847-ea17-7f6733e42ad8"
      },
      "source": [
        "import matplotlib.pyplot as plt\n",
        "acc = history.history['accuracy']\n",
        "val_acc = history.history['val_accuracy']\n",
        "loss = history.history['loss']\n",
        "val_loss = history.history['val_loss']\n",
        "\n",
        "epochs = range(len(acc))\n",
        "\n",
        "plt.plot(epochs, acc, 'r', label='Training accuracy')\n",
        "plt.plot(epochs, val_acc, 'b', label='Validation accuracy')\n",
        "plt.title('Training and validation accuracy')\n",
        "\n",
        "plt.figure()\n",
        "\n",
        "plt.plot(epochs, loss, 'r', label='Training Loss')\n",
        "plt.plot(epochs, val_loss, 'b', label='Validation Loss')\n",
        "plt.title('Training and validation loss')\n",
        "plt.legend()\n",
        "\n",
        "plt.show()"
      ],
      "execution_count": null,
      "outputs": [
        {
          "output_type": "display_data",
          "data": {
            "image/png": "[encoded data removed]",
            "text/plain": [
              "<Figure size 432x288 with 1 Axes>"
            ]
          },
          "metadata": {
            "tags": [],
            "needs_background": "light"
          }
        },
        {
          "output_type": "display_data",
          "data": {
            "image/png": "[encoded data removed]",
            "text/plain": [
              "<Figure size 432x288 with 1 Axes>"
            ]
          },
          "metadata": {
            "tags": [],
            "needs_background": "light"
          }
        }
      ]
    },
    {
      "cell_type": "code",
      "metadata": {
        "colab": {
          "base_uri": "https://localhost:8080/"
        },
        "id": "hwiVOS8JD_9O",
        "outputId": "8b8a7414-20f6-4306-a84a-b781d405b294"
      },
      "source": [
        "import time\n",
        "t = time.time()\n",
        "export_path_keras = \"./{}.h5\".format(int(t))\n",
        "print(export_path_keras)\n",
        "\n",
        "model.save(export_path_keras)"
      ],
      "execution_count": null,
      "outputs": [
        {
          "output_type": "stream",
          "text": [
            "./1616037769.h5\n"
          ],
          "name": "stdout"
        }
      ]
    },
    {
      "cell_type": "code",
      "metadata": {
        "id": "xompEj6sLIV9"
      },
      "source": [
        "from tensorflow.keras.applications.vgg16 import VGG16\n",
        "\n",
        "base_model = VGG16(input_shape = (150, 150, 3), # Shape of our images\n",
        "include_top = False, # Leave out the last fully connected layer\n",
        "weights = 'imagenet')"
      ],
      "execution_count": null,
      "outputs": []
    },
    {
      "cell_type": "code",
      "metadata": {
        "id": "msbrzP8TLVPV"
      },
      "source": [
        "for layer in base_model.layers:\n",
        "    layer.trainable = False"
      ],
      "execution_count": null,
      "outputs": []
    },
    {
      "cell_type": "code",
      "metadata": {
        "id": "B-w55x8zW_p1"
      },
      "source": [
        "import tensorflow as tf\n"
      ],
      "execution_count": null,
      "outputs": []
    },
    {
      "cell_type": "code",
      "metadata": {
        "id": "iJNqMjMkLuf4"
      },
      "source": [
        "\n",
        "# Flatten the output layer to 1 dimension\n",
        "x = layers.Flatten()(base_model.output)\n",
        "\n",
        "x = layers.Dense(1024, activation='relu')(x)\n",
        "\n",
        "\n",
        "x = layers.Dropout(0.2)(x)\n",
        "\n",
        "x = layers.Dense(4, activation='softmax')(x)\n",
        "\n",
        "model = tf.keras.models.Model(base_model.input, x)\n",
        "\n",
        "model.compile(optimizer = tf.keras.optimizers.RMSprop(lr=0.0001), loss = 'categorical_crossentropy',metrics = ['accuracy'])"
      ],
      "execution_count": null,
      "outputs": []
    },
    {
      "cell_type": "code",
      "metadata": {
        "colab": {
          "base_uri": "https://localhost:8080/"
        },
        "id": "7GeVZAKPMF2z",
        "outputId": "bfa73f74-a07b-410c-aaf6-1931426b8183"
      },
      "source": [
        "from tensorflow.keras.preprocessing.image import ImageDataGenerator\n",
        "train_datagen = ImageDataGenerator(\n",
        "    rescale = 1./255.,\n",
        "    rotation_range = 40,\n",
        "    width_shift_range = 0.2,\n",
        "    height_shift_range = 0.2,\n",
        "    shear_range = 0.2,\n",
        "    zoom_range = 0.2,\n",
        "    horizontal_flip = True\n",
        "   )\n",
        "\n",
        "validation_datagen = ImageDataGenerator(rescale=1/255)\n",
        "\n",
        "train_generator = train_datagen.flow_from_directory(\n",
        "    train_dir,\n",
        "    target_size=(150,150),\n",
        "    batch_size= 5,\n",
        "    class_mode = 'categorical'\n",
        ")\n",
        "validation_generator = validation_datagen.flow_from_directory(\n",
        "    validation_dir,\n",
        "    target_size=(150,150),\n",
        "    batch_size=5,\n",
        "    class_mode='categorical'\n",
        ")"
      ],
      "execution_count": null,
      "outputs": [
        {
          "output_type": "stream",
          "text": [
            "Found 295 images belonging to 4 classes.\n",
            "Found 73 images belonging to 4 classes.\n"
          ],
          "name": "stdout"
        }
      ]
    },
    {
      "cell_type": "code",
      "metadata": {
        "colab": {
          "base_uri": "https://localhost:8080/"
        },
        "id": "9r-zB8qjMQGu",
        "outputId": "31323f9f-116e-444d-f19f-bd25e299fca5"
      },
      "source": [
        "history = model.fit(\n",
        "    train_generator,\n",
        "    steps_per_epoch=59,\n",
        "    epochs=20,\n",
        "    validation_data = validation_generator,\n",
        "    validation_steps = 14,\n",
        "    verbose = 1)"
      ],
      "execution_count": null,
      "outputs": [
        {
          "output_type": "stream",
          "text": [
            "Epoch 1/20\n",
            "59/59 [==============================] - 3s 41ms/step - loss: 1.6569 - accuracy: 0.4222 - val_loss: 0.9494 - val_accuracy: 0.5143\n",
            "Epoch 2/20\n",
            "59/59 [==============================] - 2s 40ms/step - loss: 0.7428 - accuracy: 0.6749 - val_loss: 0.4864 - val_accuracy: 0.8000\n",
            "Epoch 3/20\n",
            "59/59 [==============================] - 2s 37ms/step - loss: 0.5396 - accuracy: 0.7911 - val_loss: 0.4689 - val_accuracy: 0.8429\n",
            "Epoch 4/20\n",
            "59/59 [==============================] - 2s 37ms/step - loss: 0.4179 - accuracy: 0.8662 - val_loss: 0.3800 - val_accuracy: 0.8714\n",
            "Epoch 5/20\n",
            "59/59 [==============================] - 2s 37ms/step - loss: 0.4736 - accuracy: 0.8318 - val_loss: 0.4063 - val_accuracy: 0.8143\n",
            "Epoch 6/20\n",
            "59/59 [==============================] - 2s 37ms/step - loss: 0.4612 - accuracy: 0.8371 - val_loss: 0.3703 - val_accuracy: 0.9000\n",
            "Epoch 7/20\n",
            "59/59 [==============================] - 2s 37ms/step - loss: 0.3678 - accuracy: 0.8807 - val_loss: 0.3587 - val_accuracy: 0.8429\n",
            "Epoch 8/20\n",
            "59/59 [==============================] - 2s 39ms/step - loss: 0.3409 - accuracy: 0.8948 - val_loss: 0.2878 - val_accuracy: 0.9000\n",
            "Epoch 9/20\n",
            "59/59 [==============================] - 2s 38ms/step - loss: 0.3353 - accuracy: 0.8829 - val_loss: 0.4014 - val_accuracy: 0.8286\n",
            "Epoch 10/20\n",
            "59/59 [==============================] - 2s 37ms/step - loss: 0.3004 - accuracy: 0.8806 - val_loss: 0.4250 - val_accuracy: 0.8143\n",
            "Epoch 11/20\n",
            "59/59 [==============================] - 2s 38ms/step - loss: 0.3312 - accuracy: 0.8766 - val_loss: 0.2311 - val_accuracy: 0.9429\n",
            "Epoch 12/20\n",
            "59/59 [==============================] - 2s 38ms/step - loss: 0.3422 - accuracy: 0.8408 - val_loss: 0.2898 - val_accuracy: 0.9000\n",
            "Epoch 13/20\n",
            "59/59 [==============================] - 2s 37ms/step - loss: 0.1898 - accuracy: 0.9248 - val_loss: 0.5424 - val_accuracy: 0.8429\n",
            "Epoch 14/20\n",
            "59/59 [==============================] - 2s 37ms/step - loss: 0.3303 - accuracy: 0.8770 - val_loss: 0.2191 - val_accuracy: 0.9000\n",
            "Epoch 15/20\n",
            "59/59 [==============================] - 2s 37ms/step - loss: 0.3215 - accuracy: 0.9021 - val_loss: 0.2327 - val_accuracy: 0.9429\n",
            "Epoch 16/20\n",
            "59/59 [==============================] - 2s 38ms/step - loss: 0.2612 - accuracy: 0.8863 - val_loss: 0.1646 - val_accuracy: 0.9429\n",
            "Epoch 17/20\n",
            "59/59 [==============================] - 2s 38ms/step - loss: 0.2723 - accuracy: 0.8803 - val_loss: 0.2353 - val_accuracy: 0.9000\n",
            "Epoch 18/20\n",
            "59/59 [==============================] - 2s 37ms/step - loss: 0.2262 - accuracy: 0.8854 - val_loss: 0.4634 - val_accuracy: 0.8143\n",
            "Epoch 19/20\n",
            "59/59 [==============================] - 2s 37ms/step - loss: 0.2401 - accuracy: 0.9183 - val_loss: 0.2033 - val_accuracy: 0.9286\n",
            "Epoch 20/20\n",
            "59/59 [==============================] - 2s 38ms/step - loss: 0.1675 - accuracy: 0.9436 - val_loss: 0.1318 - val_accuracy: 0.9714\n"
          ],
          "name": "stdout"
        }
      ]
    },
    {
      "cell_type": "code",
      "metadata": {
        "colab": {
          "base_uri": "https://localhost:8080/",
          "height": 545
        },
        "id": "C5CiRXuSM2zx",
        "outputId": "e138e0e6-e2a1-4102-d748-255bd2240429"
      },
      "source": [
        "import matplotlib.pyplot as plt\n",
        "acc = history.history['accuracy']\n",
        "val_acc = history.history['val_accuracy']\n",
        "loss = history.history['loss']\n",
        "val_loss = history.history['val_loss']\n",
        "\n",
        "epochs = range(len(acc))\n",
        "\n",
        "plt.plot(epochs, acc, 'r', label='Training accuracy')\n",
        "plt.plot(epochs, val_acc, 'b', label='Validation accuracy')\n",
        "plt.title('Training and validation accuracy')\n",
        "\n",
        "plt.figure()\n",
        "\n",
        "plt.plot(epochs, loss, 'r', label='Training Loss')\n",
        "plt.plot(epochs, val_loss, 'b', label='Validation Loss')\n",
        "plt.title('Training and validation loss')\n",
        "plt.legend()\n",
        "\n",
        "plt.show()"
      ],
      "execution_count": null,
      "outputs": [
        {
          "output_type": "display_data",
          "data": {
            "image/png": "[encoded data removed]",
            "text/plain": [
              "<Figure size 432x288 with 1 Axes>"
            ]
          },
          "metadata": {
            "tags": [],
            "needs_background": "light"
          }
        },
        {
          "output_type": "display_data",
          "data": {
            "image/png": "[encoded data removed]",
            "text/plain": [
              "<Figure size 432x288 with 1 Axes>"
            ]
          },
          "metadata": {
            "tags": [],
            "needs_background": "light"
          }
        }
      ]
    },
    {
      "cell_type": "code",
      "metadata": {
        "colab": {
          "base_uri": "https://localhost:8080/"
        },
        "id": "fe5FXa9BNAbX",
        "outputId": "1c57f519-4a97-4726-87d8-fccf3f630ad4"
      },
      "source": [
        "import time\n",
        "t = time.time()\n",
        "export_path_keras = \"./{}.h5\".format(int(t))\n",
        "print(export_path_keras)\n",
        "\n",
        "model.save(export_path_keras)"
      ],
      "execution_count": null,
      "outputs": [
        {
          "output_type": "stream",
          "text": [
            "./1616037897.h5\n"
          ],
          "name": "stdout"
        }
      ]
    },
    {
      "cell_type": "code",
      "metadata": {
        "id": "HjfvVKPGSMvo",
        "colab": {
          "base_uri": "https://localhost:8080/"
        },
        "outputId": "5593ca86-1542-43cb-8c5e-92f7dd1ab803"
      },
      "source": [
        "from tensorflow.keras.applications import ResNet50\n",
        "\n",
        "base_model = ResNet50(input_shape=(150, 150,3), include_top=False, weights=\"imagenet\")"
      ],
      "execution_count": null,
      "outputs": [
        {
          "output_type": "stream",
          "text": [
            "Downloading data from https://storage.googleapis.com/tensorflow/keras-applications/resnet/resnet50_weights_tf_dim_ordering_tf_kernels_notop.h5\n",
            "94773248/94765736 [==============================] - 0s 0us/step\n"
          ],
          "name": "stdout"
        }
      ]
    },
    {
      "cell_type": "code",
      "metadata": {
        "id": "ywn8sqToScyf"
      },
      "source": [
        "for layer in base_model.layers:\n",
        "    layer.trainable = False"
      ],
      "execution_count": null,
      "outputs": []
    },
    {
      "cell_type": "code",
      "metadata": {
        "id": "B6aKUAdzPDNj"
      },
      "source": [
        "x = layers.Flatten()(base_model.output)\n",
        "\n",
        "x = layers.Dense(1024, activation='relu')(x)\n",
        "\n",
        "\n",
        "x = layers.Dropout(0.2)(x)\n",
        "\n",
        "x = layers.Dense(4, activation='softmax')(x)\n",
        "\n",
        "model = tf.keras.models.Model(base_model.input, x)\n",
        "\n",
        "model.compile(optimizer = tf.keras.optimizers.RMSprop(lr=0.0001), loss = 'categorical_crossentropy',metrics = ['accuracy'])\n"
      ],
      "execution_count": null,
      "outputs": []
    },
    {
      "cell_type": "code",
      "metadata": {
        "colab": {
          "base_uri": "https://localhost:8080/"
        },
        "id": "d97Qom0jQA8A",
        "outputId": "27d3b41f-6513-4c6c-a8ea-fbe800513203"
      },
      "source": [
        "from tensorflow.keras.preprocessing.image import ImageDataGenerator\n",
        "train_datagen = ImageDataGenerator(\n",
        "    rescale = 1./255.,\n",
        "    rotation_range = 40,\n",
        "    width_shift_range = 0.2,\n",
        "    height_shift_range = 0.2,\n",
        "    shear_range = 0.2,\n",
        "    zoom_range = 0.2,\n",
        "    horizontal_flip = True\n",
        "   )\n",
        "\n",
        "validation_datagen = ImageDataGenerator(rescale=1/255)\n",
        "\n",
        "train_generator = train_datagen.flow_from_directory(\n",
        "    train_dir,\n",
        "    target_size=(150,150),\n",
        "    batch_size= 5,\n",
        "    class_mode = 'categorical'\n",
        ")\n",
        "validation_generator = validation_datagen.flow_from_directory(\n",
        "    validation_dir,\n",
        "    target_size=(150,150),\n",
        "    batch_size=5,\n",
        "    class_mode='categorical'\n",
        ")"
      ],
      "execution_count": null,
      "outputs": [
        {
          "output_type": "stream",
          "text": [
            "Found 295 images belonging to 4 classes.\n",
            "Found 73 images belonging to 4 classes.\n"
          ],
          "name": "stdout"
        }
      ]
    },
    {
      "cell_type": "code",
      "metadata": {
        "colab": {
          "base_uri": "https://localhost:8080/"
        },
        "id": "Rf8p06BdQMTc",
        "outputId": "69db21b8-2aa7-445c-a124-9506f5df753f"
      },
      "source": [
        "history = model.fit(\n",
        "    train_generator,\n",
        "    steps_per_epoch=59,\n",
        "    epochs=20,\n",
        "    validation_data = validation_generator,\n",
        "    validation_steps = 14,\n",
        "    verbose = 1)"
      ],
      "execution_count": null,
      "outputs": [
        {
          "output_type": "stream",
          "text": [
            "Epoch 1/20\n",
            "59/59 [==============================] - 6s 61ms/step - loss: 2.7389 - accuracy: 0.2728 - val_loss: 1.5488 - val_accuracy: 0.2857\n",
            "Epoch 2/20\n",
            "59/59 [==============================] - 3s 46ms/step - loss: 1.7991 - accuracy: 0.3135 - val_loss: 1.6220 - val_accuracy: 0.4143\n",
            "Epoch 3/20\n",
            "59/59 [==============================] - 3s 47ms/step - loss: 1.4633 - accuracy: 0.4273 - val_loss: 1.2444 - val_accuracy: 0.4571\n",
            "Epoch 4/20\n",
            "59/59 [==============================] - 3s 45ms/step - loss: 1.4317 - accuracy: 0.3922 - val_loss: 1.2075 - val_accuracy: 0.4714\n",
            "Epoch 5/20\n",
            "59/59 [==============================] - 3s 44ms/step - loss: 1.4336 - accuracy: 0.2948 - val_loss: 1.3479 - val_accuracy: 0.2571\n",
            "Epoch 6/20\n",
            "59/59 [==============================] - 3s 43ms/step - loss: 1.3280 - accuracy: 0.3665 - val_loss: 1.3476 - val_accuracy: 0.4571\n",
            "Epoch 7/20\n",
            "59/59 [==============================] - 3s 43ms/step - loss: 1.3145 - accuracy: 0.4480 - val_loss: 1.4578 - val_accuracy: 0.2714\n",
            "Epoch 8/20\n",
            "59/59 [==============================] - 3s 43ms/step - loss: 1.2922 - accuracy: 0.4067 - val_loss: 1.1847 - val_accuracy: 0.4571\n",
            "Epoch 9/20\n",
            "59/59 [==============================] - 3s 43ms/step - loss: 1.2662 - accuracy: 0.4107 - val_loss: 1.1945 - val_accuracy: 0.5286\n",
            "Epoch 10/20\n",
            "59/59 [==============================] - 3s 44ms/step - loss: 1.2125 - accuracy: 0.4307 - val_loss: 1.2234 - val_accuracy: 0.4000\n",
            "Epoch 11/20\n",
            "59/59 [==============================] - 3s 44ms/step - loss: 1.2645 - accuracy: 0.4437 - val_loss: 1.1947 - val_accuracy: 0.4286\n",
            "Epoch 12/20\n",
            "59/59 [==============================] - 3s 43ms/step - loss: 1.1804 - accuracy: 0.4679 - val_loss: 1.2524 - val_accuracy: 0.4714\n",
            "Epoch 13/20\n",
            "59/59 [==============================] - 3s 43ms/step - loss: 1.3673 - accuracy: 0.3836 - val_loss: 1.1749 - val_accuracy: 0.4286\n",
            "Epoch 14/20\n",
            "59/59 [==============================] - 3s 44ms/step - loss: 1.1979 - accuracy: 0.4402 - val_loss: 1.1942 - val_accuracy: 0.5143\n",
            "Epoch 15/20\n",
            "59/59 [==============================] - 3s 43ms/step - loss: 1.2324 - accuracy: 0.4023 - val_loss: 1.2254 - val_accuracy: 0.4714\n",
            "Epoch 16/20\n",
            "59/59 [==============================] - 3s 46ms/step - loss: 1.1015 - accuracy: 0.4767 - val_loss: 1.1692 - val_accuracy: 0.4286\n",
            "Epoch 17/20\n",
            "59/59 [==============================] - 3s 43ms/step - loss: 1.1928 - accuracy: 0.5158 - val_loss: 1.0979 - val_accuracy: 0.5429\n",
            "Epoch 18/20\n",
            "59/59 [==============================] - 3s 43ms/step - loss: 1.1915 - accuracy: 0.4713 - val_loss: 1.2804 - val_accuracy: 0.5000\n",
            "Epoch 19/20\n",
            "59/59 [==============================] - 3s 43ms/step - loss: 1.1796 - accuracy: 0.5138 - val_loss: 1.7352 - val_accuracy: 0.3429\n",
            "Epoch 20/20\n",
            "59/59 [==============================] - 3s 43ms/step - loss: 1.1918 - accuracy: 0.4256 - val_loss: 1.0764 - val_accuracy: 0.4714\n"
          ],
          "name": "stdout"
        }
      ]
    },
    {
      "cell_type": "code",
      "metadata": {
        "colab": {
          "base_uri": "https://localhost:8080/",
          "height": 545
        },
        "id": "HLZCeBhdQoye",
        "outputId": "972e7d02-3644-433a-9950-a196fece1f8c"
      },
      "source": [
        "import matplotlib.pyplot as plt\n",
        "acc = history.history['accuracy']\n",
        "val_acc = history.history['val_accuracy']\n",
        "loss = history.history['loss']\n",
        "val_loss = history.history['val_loss']\n",
        "\n",
        "epochs = range(len(acc))\n",
        "\n",
        "plt.plot(epochs, acc, 'r', label='Training accuracy')\n",
        "plt.plot(epochs, val_acc, 'b', label='Validation accuracy')\n",
        "plt.title('Training and validation accuracy')\n",
        "\n",
        "plt.figure()\n",
        "\n",
        "plt.plot(epochs, loss, 'r', label='Training Loss')\n",
        "plt.plot(epochs, val_loss, 'b', label='Validation Loss')\n",
        "plt.title('Training and validation loss')\n",
        "plt.legend()\n",
        "\n",
        "plt.show()"
      ],
      "execution_count": null,
      "outputs": [
        {
          "output_type": "display_data",
          "data": {
            "image/png": "[encoded data removed]",
            "text/plain": [
              "<Figure size 432x288 with 1 Axes>"
            ]
          },
          "metadata": {
            "tags": [],
            "needs_background": "light"
          }
        },
        {
          "output_type": "display_data",
          "data": {
            "image/png": "[encoded data removed]",
            "text/plain": [
              "<Figure size 432x288 with 1 Axes>"
            ]
          },
          "metadata": {
            "tags": [],
            "needs_background": "light"
          }
        }
      ]
    },
    {
      "cell_type": "code",
      "metadata": {
        "colab": {
          "base_uri": "https://localhost:8080/"
        },
        "id": "XHy5yStoQv_V",
        "outputId": "b8260e02-4346-4bca-e414-8654f282becc"
      },
      "source": [
        "import time\n",
        "t = time.time()\n",
        "export_path_keras = \"./{}.h5\".format(int(t))\n",
        "print(export_path_keras)\n",
        "\n",
        "model.save(export_path_keras)"
      ],
      "execution_count": null,
      "outputs": [
        {
          "output_type": "stream",
          "text": [
            "./1616038017.h5\n"
          ],
          "name": "stdout"
        }
      ]
    }
  ]
}